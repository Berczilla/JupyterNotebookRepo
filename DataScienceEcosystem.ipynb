{
 "cells": [
  {
   "cell_type": "markdown",
   "id": "60c1aa92-dbe2-42f7-8970-1d900a40bd95",
   "metadata": {},
   "source": [
    "# Data Science Tools and Ecosystem"
   ]
  },
  {
   "cell_type": "markdown",
   "id": "a7992ec2-b74a-4c4a-913b-2d63e2b7fcb8",
   "metadata": {
    "tags": []
   },
   "source": [
    "## Author\n",
    "Robert Bercovic"
   ]
  },
  {
   "cell_type": "markdown",
   "id": "d77add88-64ee-4f97-9645-358d334c9d90",
   "metadata": {},
   "source": [
    "This notebook will provide a summary of Data Science Tools and Ecosystem."
   ]
  },
  {
   "cell_type": "markdown",
   "id": "97992e9a-2445-4af6-9f9e-55e491f79518",
   "metadata": {},
   "source": [
    "__Objectives__\n",
    "\n",
    "* Popular Data Science Languages\n",
    "* Commonly used libraries in data science\n",
    "* Data Science Tools\n",
    "* Evaluated arithmetic expressions in Python  "
   ]
  },
  {
   "cell_type": "markdown",
   "id": "0c50767a-825b-40ad-9006-e0bf5c4b4f02",
   "metadata": {},
   "source": [
    "Some of the popular languages that Data Scientists use are:\n",
    "1. Python\n",
    "2. R\n",
    "3. SQL"
   ]
  },
  {
   "cell_type": "markdown",
   "id": "beed690d-6e56-46e8-bb46-6bb2b6ec7a56",
   "metadata": {},
   "source": [
    "Some of the commonly used libraries used by Data Scientists include: \n",
    "1. Python\n",
    "2. Apache Spark\n",
    "3. Scala\n",
    "4. R"
   ]
  },
  {
   "cell_type": "markdown",
   "id": "fd767d90-372c-401f-949b-49bcb1aca5ea",
   "metadata": {},
   "source": [
    "| Data Science Tools |\n",
    "| --- |\n",
    "| Jupyter | \n",
    "| Apache Zepplin | \n",
    "| R Studio | "
   ]
  },
  {
   "cell_type": "markdown",
   "id": "5117a437-1e55-42ef-8c89-3965c45b132f",
   "metadata": {},
   "source": [
    "### Below are a few examples of evaluated arithmetic expressions in Python"
   ]
  },
  {
   "cell_type": "code",
   "execution_count": 4,
   "id": "feae6b9d-aa9e-4e74-aecf-7d2589e9db44",
   "metadata": {},
   "outputs": [
    {
     "data": {
      "text/plain": [
       "17"
      ]
     },
     "execution_count": 4,
     "metadata": {},
     "output_type": "execute_result"
    }
   ],
   "source": [
    "#This is a simple arithmetic expression \n",
    "(3*4) +5"
   ]
  },
  {
   "cell_type": "code",
   "execution_count": 5,
   "id": "2700ac40-199c-4762-a06a-4efcc86cc3c1",
   "metadata": {},
   "outputs": [
    {
     "data": {
      "text/plain": [
       "3.3333333333333335"
      ]
     },
     "execution_count": 5,
     "metadata": {},
     "output_type": "execute_result"
    }
   ],
   "source": [
    "#This will convert 200 minutes to hours\n",
    "200/60"
   ]
  },
  {
   "cell_type": "code",
   "execution_count": null,
   "id": "8dc96021-3737-4150-bae8-950deb4c43a5",
   "metadata": {},
   "outputs": [],
   "source": []
  }
 ],
 "metadata": {
  "kernelspec": {
   "display_name": "Python",
   "language": "python",
   "name": "conda-env-python-py"
  },
  "language_info": {
   "codemirror_mode": {
    "name": "ipython",
    "version": 3
   },
   "file_extension": ".py",
   "mimetype": "text/x-python",
   "name": "python",
   "nbconvert_exporter": "python",
   "pygments_lexer": "ipython3",
   "version": "3.7.12"
  }
 },
 "nbformat": 4,
 "nbformat_minor": 5
}
